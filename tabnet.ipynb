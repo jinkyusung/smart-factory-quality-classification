{
  "nbformat": 4,
  "nbformat_minor": 0,
  "metadata": {
    "colab": {
      "provenance": [],
      "mount_file_id": "1ih1h2l4Uc9BfSmY3uCQvidPDzyGD2tVi",
      "authorship_tag": "ABX9TyNgRr0AaoS/fvK4Fef1e7Hh",
      "include_colab_link": true
    },
    "kernelspec": {
      "name": "python3",
      "display_name": "Python 3"
    },
    "language_info": {
      "name": "python"
    }
  },
  "cells": [
    {
      "cell_type": "markdown",
      "metadata": {
        "id": "view-in-github",
        "colab_type": "text"
      },
      "source": [
        "<a href=\"https://colab.research.google.com/github/sungjk1999/smart-factory-quality-classification/blob/main/tabnet.ipynb\" target=\"_parent\"><img src=\"https://colab.research.google.com/assets/colab-badge.svg\" alt=\"Open In Colab\"/></a>"
      ]
    },
    {
      "cell_type": "code",
      "source": [
        "pip install pytorch-tabnet"
      ],
      "metadata": {
        "colab": {
          "base_uri": "https://localhost:8080/"
        },
        "id": "nlu_VWWtxbho",
        "outputId": "455be0ac-3a3b-47b6-9838-279405fee9ac"
      },
      "execution_count": null,
      "outputs": [
        {
          "output_type": "stream",
          "name": "stdout",
          "text": [
            "Looking in indexes: https://pypi.org/simple, https://us-python.pkg.dev/colab-wheels/public/simple/\n",
            "Requirement already satisfied: pytorch-tabnet in /usr/local/lib/python3.8/dist-packages (4.0)\n",
            "Requirement already satisfied: scipy>1.4 in /usr/local/lib/python3.8/dist-packages (from pytorch-tabnet) (1.7.3)\n",
            "Requirement already satisfied: torch<2.0,>=1.2 in /usr/local/lib/python3.8/dist-packages (from pytorch-tabnet) (1.13.1+cu116)\n",
            "Requirement already satisfied: scikit_learn>0.21 in /usr/local/lib/python3.8/dist-packages (from pytorch-tabnet) (1.0.2)\n",
            "Requirement already satisfied: tqdm<5.0,>=4.36 in /usr/local/lib/python3.8/dist-packages (from pytorch-tabnet) (4.64.1)\n",
            "Requirement already satisfied: numpy<2.0,>=1.17 in /usr/local/lib/python3.8/dist-packages (from pytorch-tabnet) (1.22.4)\n",
            "Requirement already satisfied: threadpoolctl>=2.0.0 in /usr/local/lib/python3.8/dist-packages (from scikit_learn>0.21->pytorch-tabnet) (3.1.0)\n",
            "Requirement already satisfied: joblib>=0.11 in /usr/local/lib/python3.8/dist-packages (from scikit_learn>0.21->pytorch-tabnet) (1.2.0)\n",
            "Requirement already satisfied: typing-extensions in /usr/local/lib/python3.8/dist-packages (from torch<2.0,>=1.2->pytorch-tabnet) (4.5.0)\n"
          ]
        }
      ]
    },
    {
      "cell_type": "code",
      "execution_count": null,
      "metadata": {
        "id": "sjBvUQg_w4TF"
      },
      "outputs": [],
      "source": [
        "import numpy as np\n",
        "import pandas as pd\n",
        "import random\n",
        "import os\n",
        "\n",
        "from sklearn.metrics import roc_auc_score\n",
        "from sklearn.preprocessing import LabelEncoder\n",
        "from matplotlib import pyplot as plt\n",
        "\n",
        "import torch.optim as optim\n",
        "from torch.utils.data import Dataset, DataLoader\n",
        "from sklearn.model_selection import train_test_split\n",
        "\n",
        "import torch\n",
        "import torch.nn as nn\n",
        "from pytorch_tabnet.tab_model import TabNetClassifier"
      ]
    },
    {
      "cell_type": "code",
      "source": [
        "def seed_everything(seed):\n",
        "    random.seed(seed)\n",
        "    os.environ['PYTHONHASHSEED'] = str(seed)\n",
        "    np.random.seed(seed)\n",
        "seed_everything(37) # Seed 고정"
      ],
      "metadata": {
        "id": "yF-PFP9dw8y4"
      },
      "execution_count": null,
      "outputs": []
    },
    {
      "cell_type": "code",
      "source": [
        "from google.colab import drive\n",
        "drive.mount('/content/drive')\n",
        "\n",
        "\"\"\"\n",
        "PRODUCT_ID : 제품의 고유 ID\n",
        "\n",
        "Y_Class : 제품 품질 상태(Target) \n",
        "    0 : 적정 기준 미달 (부적합) \n",
        "    1 : 적합 \n",
        "    2 : 적정 기준 초과 (부적합)\n",
        "\n",
        "Y_Quality : 제품 품질 관련 정량적 수치 \n",
        "\n",
        "TIMESTAMP : 제품이 공정에 들어간 시각 \n",
        "\n",
        "LINE : 제품이 들어간 공정 LINE 종류 ('T050304', 'T050307', 'T100304', 'T100306', 'T010306', 'T010305' 존재) \n",
        "\n",
        "PRODUCT_CODE : 제품의 CODE 번호 ('A_31', 'T_31', 'O_31' 존재) \n",
        "\n",
        "X_1 ~ X_2875 : 공정 과정에서 추출되어 비식별화된 변수\n",
        "\"\"\"\n",
        "\n",
        "dir_path = \"/content/drive/MyDrive/Colab Notebooks/open\"\n",
        "\n",
        "train_df = pd.read_csv(f\"{dir_path}/train.csv\")\n",
        "test_df = pd.read_csv(f\"{dir_path}/test.csv\")"
      ],
      "metadata": {
        "colab": {
          "base_uri": "https://localhost:8080/"
        },
        "id": "COOfY1ODw-kM",
        "outputId": "cef5f1dc-5c37-4540-beef-f7ce206116b9"
      },
      "execution_count": null,
      "outputs": [
        {
          "output_type": "stream",
          "name": "stdout",
          "text": [
            "Drive already mounted at /content/drive; to attempt to forcibly remount, call drive.mount(\"/content/drive\", force_remount=True).\n"
          ]
        }
      ]
    },
    {
      "cell_type": "code",
      "source": [
        "train = train_df.drop(columns=['Y_Class', 'Y_Quality'])\n",
        "train_y = train_df['Y_Class']\n",
        "\n",
        "invalid = ['PRODUCT_ID', 'TIMESTAMP']\n",
        "\n",
        "tmp = train.describe()\n",
        "for col in tmp.columns:\n",
        "    std = tmp.loc['std', col]\n",
        "    if std == 0 or np.isnan(std):\n",
        "        invalid.append(col)\n",
        "\n",
        "test = test_df.drop(columns=invalid)\n",
        "train = train.drop(columns=invalid)\n",
        "train = train.fillna(0)\n",
        "test = test.fillna(0)"
      ],
      "metadata": {
        "id": "U3pfmMiAxABH"
      },
      "execution_count": null,
      "outputs": []
    },
    {
      "cell_type": "code",
      "source": [
        "if \"Set\" not in train.columns:\n",
        "    train[\"Set\"] = np.random.choice([\"train\", \"valid\"], p =[.8, .2], size=(train.shape[0],))\n",
        "\n",
        "train_indices = train[train.Set==\"train\"].index\n",
        "valid_indices = train[train.Set==\"valid\"].index"
      ],
      "metadata": {
        "id": "WsP8P6mJzTjD"
      },
      "execution_count": null,
      "outputs": []
    },
    {
      "cell_type": "code",
      "source": [
        "nunique = train.nunique()\n",
        "types = train.dtypes\n",
        "\n",
        "categorical_columns = []\n",
        "categorical_dims =  {}\n",
        "for col in train.columns:\n",
        "    if ((types[col] == 'object')&(col!='Set')):\n",
        "        print(col, train[col].nunique())\n",
        "        l_enc = LabelEncoder()\n",
        "        train[col] = l_enc.fit_transform(train[col].values)\n",
        "        test[col] = l_enc.transform(test[col].values)\n",
        "        categorical_columns.append(col)\n",
        "        categorical_dims[col] = len(l_enc.classes_)"
      ],
      "metadata": {
        "colab": {
          "base_uri": "https://localhost:8080/"
        },
        "id": "ROucMZzTxC3W",
        "outputId": "7ef54d3c-b741-4de4-a958-229b959bb311"
      },
      "execution_count": null,
      "outputs": [
        {
          "output_type": "stream",
          "name": "stdout",
          "text": [
            "LINE 6\n",
            "PRODUCT_CODE 3\n"
          ]
        }
      ]
    },
    {
      "cell_type": "code",
      "source": [
        "# Categorical Embedding을 위해 Categorical 변수의 차원과 idxs를 담음.\n",
        "unused_feat = ['Set']\n",
        "features = [ col for col in train.columns if col not in unused_feat] \n",
        "cat_idxs = [ i for i, f in enumerate(features) if f in categorical_columns]\n",
        "cat_dims = [ categorical_dims[f] for i, f in enumerate(features) if f in categorical_columns]\n",
        "\n",
        "\n",
        "\n",
        "X_train = train[features].values[train_indices]\n",
        "y_train = train_y.values[train_indices]\n",
        "\n",
        "X_valid = train[features].values[valid_indices]\n",
        "y_valid = train_y.values[valid_indices]\n"
      ],
      "metadata": {
        "id": "gpEYNr7mxFt0"
      },
      "execution_count": null,
      "outputs": []
    },
    {
      "cell_type": "code",
      "source": [
        "print(X_train.shape)\n",
        "print(y_train.shape)\n",
        "print(train.shape)\n",
        "print(test.shape)\n",
        "     "
      ],
      "metadata": {
        "colab": {
          "base_uri": "https://localhost:8080/"
        },
        "id": "bmlnNq4kxHVl",
        "outputId": "049fab65-c6d5-4f86-ce8c-3edb5cf51e2b"
      },
      "execution_count": null,
      "outputs": [
        {
          "output_type": "stream",
          "name": "stdout",
          "text": [
            "(485, 2429)\n",
            "(485,)\n",
            "(598, 2430)\n",
            "(310, 2429)\n"
          ]
        }
      ]
    },
    {
      "cell_type": "code",
      "source": [
        "clf = TabNetClassifier(cat_idxs=cat_idxs,\n",
        "                       cat_dims=cat_dims,\n",
        "                       cat_emb_dim=10,\n",
        "                       optimizer_fn=torch.optim.Adam,\n",
        "                       optimizer_params=dict(lr=1e-2),\n",
        "                       scheduler_params={\"step_size\":50,\n",
        "                                         \"gamma\":0.9},\n",
        "                       scheduler_fn=torch.optim.lr_scheduler.StepLR,\n",
        "                       mask_type='sparsemax' # \"sparsemax\", entmax\n",
        "                      )"
      ],
      "metadata": {
        "colab": {
          "base_uri": "https://localhost:8080/"
        },
        "id": "lYctzTE4xIw5",
        "outputId": "e5446e79-a4d7-462b-e5d4-0d7697f2a2a4"
      },
      "execution_count": null,
      "outputs": [
        {
          "output_type": "stream",
          "name": "stderr",
          "text": [
            "/usr/local/lib/python3.8/dist-packages/pytorch_tabnet/abstract_model.py:75: UserWarning: Device used : cpu\n",
            "  warnings.warn(f\"Device used : {self.device}\")\n"
          ]
        }
      ]
    },
    {
      "cell_type": "code",
      "source": [
        "for col in train.columns:\n",
        "    if (train[col].isnull().any()):\n",
        "      print(col)"
      ],
      "metadata": {
        "id": "R1QCehZFxKPU"
      },
      "execution_count": null,
      "outputs": []
    },
    {
      "cell_type": "code",
      "source": [
        "max_epochs = 150000\n",
        "\n",
        "clf.fit(\n",
        "    X_train=X_train, y_train=y_train,\n",
        "    eval_set=[(X_train, y_train), (X_valid, y_valid)],\n",
        "    eval_name=['train', 'valid'],\n",
        "    #eval_metric=['rmse'],\n",
        "    max_epochs=max_epochs , patience=20,\n",
        "    batch_size=1024, virtual_batch_size=128,\n",
        "    num_workers=0,\n",
        "    weights=1,\n",
        "    drop_last=False,\n",
        ")"
      ],
      "metadata": {
        "colab": {
          "base_uri": "https://localhost:8080/"
        },
        "id": "-SqnBnFLxNC_",
        "outputId": "1225d567-5460-465c-d382-afd3e6bf7955"
      },
      "execution_count": null,
      "outputs": [
        {
          "output_type": "stream",
          "name": "stdout",
          "text": [
            "epoch 0  | loss: 1.6508  | train_accuracy: 0.29072 | valid_accuracy: 0.28319 |  0:00:01s\n",
            "epoch 1  | loss: 1.46349 | train_accuracy: 0.30928 | valid_accuracy: 0.25664 |  0:00:03s\n",
            "epoch 2  | loss: 1.53743 | train_accuracy: 0.35258 | valid_accuracy: 0.30088 |  0:00:05s\n",
            "epoch 3  | loss: 1.4614  | train_accuracy: 0.25567 | valid_accuracy: 0.16814 |  0:00:08s\n",
            "epoch 4  | loss: 1.35312 | train_accuracy: 0.30515 | valid_accuracy: 0.32743 |  0:00:11s\n",
            "epoch 5  | loss: 1.40414 | train_accuracy: 0.22474 | valid_accuracy: 0.23894 |  0:00:13s\n",
            "epoch 6  | loss: 1.3549  | train_accuracy: 0.37732 | valid_accuracy: 0.42478 |  0:00:14s\n",
            "epoch 7  | loss: 1.33016 | train_accuracy: 0.4701  | valid_accuracy: 0.59292 |  0:00:16s\n",
            "epoch 8  | loss: 1.26053 | train_accuracy: 0.56289 | valid_accuracy: 0.65487 |  0:00:17s\n",
            "epoch 9  | loss: 1.27274 | train_accuracy: 0.5732  | valid_accuracy: 0.63717 |  0:00:18s\n",
            "epoch 10 | loss: 1.08711 | train_accuracy: 0.27216 | valid_accuracy: 0.27434 |  0:00:19s\n",
            "epoch 11 | loss: 1.11188 | train_accuracy: 0.1732  | valid_accuracy: 0.15929 |  0:00:20s\n",
            "epoch 12 | loss: 1.18475 | train_accuracy: 0.18351 | valid_accuracy: 0.17699 |  0:00:21s\n",
            "epoch 13 | loss: 1.13322 | train_accuracy: 0.16907 | valid_accuracy: 0.15044 |  0:00:22s\n",
            "epoch 14 | loss: 1.15497 | train_accuracy: 0.16495 | valid_accuracy: 0.13274 |  0:00:23s\n",
            "epoch 15 | loss: 1.0736  | train_accuracy: 0.15876 | valid_accuracy: 0.15044 |  0:00:24s\n",
            "epoch 16 | loss: 1.10797 | train_accuracy: 0.15464 | valid_accuracy: 0.15929 |  0:00:26s\n",
            "epoch 17 | loss: 1.11146 | train_accuracy: 0.15052 | valid_accuracy: 0.15929 |  0:00:27s\n",
            "epoch 18 | loss: 1.12328 | train_accuracy: 0.16289 | valid_accuracy: 0.16814 |  0:00:28s\n",
            "epoch 19 | loss: 1.0801  | train_accuracy: 0.17938 | valid_accuracy: 0.21239 |  0:00:29s\n",
            "epoch 20 | loss: 1.07833 | train_accuracy: 0.31959 | valid_accuracy: 0.46018 |  0:00:30s\n",
            "epoch 21 | loss: 1.06747 | train_accuracy: 0.50515 | valid_accuracy: 0.61947 |  0:00:31s\n",
            "epoch 22 | loss: 1.11725 | train_accuracy: 0.53196 | valid_accuracy: 0.61062 |  0:00:32s\n",
            "epoch 23 | loss: 1.06198 | train_accuracy: 0.58763 | valid_accuracy: 0.67257 |  0:00:33s\n",
            "epoch 24 | loss: 1.0527  | train_accuracy: 0.59381 | valid_accuracy: 0.68142 |  0:00:34s\n",
            "epoch 25 | loss: 1.05712 | train_accuracy: 0.57113 | valid_accuracy: 0.65487 |  0:00:35s\n",
            "epoch 26 | loss: 1.05088 | train_accuracy: 0.55876 | valid_accuracy: 0.65487 |  0:00:36s\n",
            "epoch 27 | loss: 1.0331  | train_accuracy: 0.56082 | valid_accuracy: 0.65487 |  0:00:38s\n",
            "epoch 28 | loss: 1.00961 | train_accuracy: 0.56701 | valid_accuracy: 0.64602 |  0:00:39s\n",
            "epoch 29 | loss: 1.00778 | train_accuracy: 0.5732  | valid_accuracy: 0.64602 |  0:00:40s\n",
            "epoch 30 | loss: 1.01461 | train_accuracy: 0.57113 | valid_accuracy: 0.64602 |  0:00:41s\n",
            "epoch 31 | loss: 1.02059 | train_accuracy: 0.57938 | valid_accuracy: 0.66372 |  0:00:42s\n",
            "epoch 32 | loss: 0.97676 | train_accuracy: 0.5567  | valid_accuracy: 0.61947 |  0:00:43s\n",
            "epoch 33 | loss: 1.05379 | train_accuracy: 0.50309 | valid_accuracy: 0.53982 |  0:00:44s\n",
            "epoch 34 | loss: 0.99742 | train_accuracy: 0.47835 | valid_accuracy: 0.48673 |  0:00:45s\n",
            "epoch 35 | loss: 1.01042 | train_accuracy: 0.54433 | valid_accuracy: 0.61947 |  0:00:46s\n",
            "epoch 36 | loss: 1.02286 | train_accuracy: 0.57938 | valid_accuracy: 0.63717 |  0:00:47s\n",
            "epoch 37 | loss: 0.9561  | train_accuracy: 0.59588 | valid_accuracy: 0.71681 |  0:00:49s\n",
            "epoch 38 | loss: 1.02896 | train_accuracy: 0.59381 | valid_accuracy: 0.69912 |  0:00:50s\n",
            "epoch 39 | loss: 1.03266 | train_accuracy: 0.57526 | valid_accuracy: 0.65487 |  0:00:51s\n",
            "epoch 40 | loss: 1.01517 | train_accuracy: 0.57526 | valid_accuracy: 0.67257 |  0:00:52s\n",
            "epoch 41 | loss: 1.03838 | train_accuracy: 0.58557 | valid_accuracy: 0.68142 |  0:00:53s\n",
            "epoch 42 | loss: 1.01627 | train_accuracy: 0.61443 | valid_accuracy: 0.69027 |  0:00:54s\n",
            "epoch 43 | loss: 1.02244 | train_accuracy: 0.61031 | valid_accuracy: 0.69912 |  0:00:55s\n",
            "epoch 44 | loss: 1.00835 | train_accuracy: 0.60825 | valid_accuracy: 0.69027 |  0:00:56s\n",
            "epoch 45 | loss: 0.9579  | train_accuracy: 0.60825 | valid_accuracy: 0.67257 |  0:00:57s\n",
            "epoch 46 | loss: 0.98378 | train_accuracy: 0.59175 | valid_accuracy: 0.69912 |  0:00:59s\n",
            "epoch 47 | loss: 0.99167 | train_accuracy: 0.60619 | valid_accuracy: 0.69027 |  0:01:00s\n",
            "epoch 48 | loss: 0.98541 | train_accuracy: 0.60206 | valid_accuracy: 0.68142 |  0:01:01s\n",
            "epoch 49 | loss: 1.02576 | train_accuracy: 0.59588 | valid_accuracy: 0.69912 |  0:01:02s\n",
            "epoch 50 | loss: 0.95513 | train_accuracy: 0.58763 | valid_accuracy: 0.70796 |  0:01:03s\n",
            "epoch 51 | loss: 0.9567  | train_accuracy: 0.58351 | valid_accuracy: 0.69027 |  0:01:04s\n",
            "epoch 52 | loss: 0.9908  | train_accuracy: 0.58557 | valid_accuracy: 0.65487 |  0:01:05s\n",
            "epoch 53 | loss: 0.98383 | train_accuracy: 0.55052 | valid_accuracy: 0.62832 |  0:01:06s\n",
            "epoch 54 | loss: 0.97158 | train_accuracy: 0.52165 | valid_accuracy: 0.61062 |  0:01:08s\n",
            "epoch 55 | loss: 0.97541 | train_accuracy: 0.50722 | valid_accuracy: 0.58407 |  0:01:09s\n",
            "epoch 56 | loss: 0.97172 | train_accuracy: 0.43918 | valid_accuracy: 0.59292 |  0:01:10s\n",
            "epoch 57 | loss: 0.95488 | train_accuracy: 0.33196 | valid_accuracy: 0.40708 |  0:01:11s\n",
            "\n",
            "Early stopping occurred at epoch 57 with best_epoch = 37 and best_valid_accuracy = 0.71681\n"
          ]
        },
        {
          "output_type": "stream",
          "name": "stderr",
          "text": [
            "/usr/local/lib/python3.8/dist-packages/pytorch_tabnet/callbacks.py:172: UserWarning: Best weights from best epoch are automatically used!\n",
            "  warnings.warn(wrn_msg)\n"
          ]
        }
      ]
    },
    {
      "cell_type": "code",
      "source": [
        "preds = clf.predict(test.values)"
      ],
      "metadata": {
        "id": "_KXuzdNxxOnC"
      },
      "execution_count": null,
      "outputs": []
    },
    {
      "cell_type": "code",
      "source": [
        "submit = pd.read_csv(f'{dir_path}/sample_submission.csv')"
      ],
      "metadata": {
        "id": "KBUFlmGsxP74"
      },
      "execution_count": null,
      "outputs": []
    },
    {
      "cell_type": "code",
      "source": [
        "submit['Y_Class'] = preds"
      ],
      "metadata": {
        "id": "rChEKwuRxR-l"
      },
      "execution_count": null,
      "outputs": []
    },
    {
      "cell_type": "code",
      "source": [
        "submit.to_csv('./baseline_submission.csv', index=False)"
      ],
      "metadata": {
        "id": "Nng6J-uXxTSm"
      },
      "execution_count": null,
      "outputs": []
    }
  ]
}