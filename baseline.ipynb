{
  "nbformat": 4,
  "nbformat_minor": 0,
  "metadata": {
    "colab": {
      "provenance": [],
      "mount_file_id": "1_P1vip2FUwlnEiGAoQamtJEyLJCBRdts",
      "authorship_tag": "ABX9TyMWFQXvxmwrbDxDoXO2YI1D",
      "include_colab_link": true
    },
    "kernelspec": {
      "name": "python3",
      "display_name": "Python 3"
    },
    "language_info": {
      "name": "python"
    }
  },
  "cells": [
    {
      "cell_type": "markdown",
      "metadata": {
        "id": "view-in-github",
        "colab_type": "text"
      },
      "source": [
        "<a href=\"https://colab.research.google.com/github/sungjk1999/smart-factory-quality-classification/blob/main/baseline.ipynb\" target=\"_parent\"><img src=\"https://colab.research.google.com/assets/colab-badge.svg\" alt=\"Open In Colab\"/></a>"
      ]
    },
    {
      "cell_type": "code",
      "execution_count": 1,
      "metadata": {
        "id": "gnxai0rZ7afR",
        "outputId": "4e5499e0-a582-444c-afac-a2a479dcb43f",
        "colab": {
          "base_uri": "https://localhost:8080/"
        }
      },
      "outputs": [
        {
          "output_type": "stream",
          "name": "stdout",
          "text": [
            "Mounted at /content/gdrive\n"
          ]
        }
      ],
      "source": [
        "import pandas as pd\n",
        "import numpy as np\n",
        "\n",
        "\n",
        "from google.colab import drive\n",
        "drive.mount('/content/gdrive')\n",
        "\n",
        "\n",
        "\"\"\"\n",
        "PRODUCT_ID : 제품의 고유 ID\n",
        "\n",
        "Y_Class : 제품 품질 상태(Target) \n",
        "    0 : 적정 기준 미달 (부적합) \n",
        "    1 : 적합 \n",
        "    2 : 적정 기준 초과 (부적합)\n",
        "\n",
        "Y_Quality : 제품 품질 관련 정량적 수치 \n",
        "\n",
        "TIMESTAMP : 제품이 공정에 들어간 시각 \n",
        "\n",
        "LINE : 제품이 들어간 공정 LINE 종류 ('T050304', 'T050307', 'T100304', 'T100306', 'T010306', 'T010305' 존재) \n",
        "\n",
        "PRODUCT_CODE : 제품의 CODE 번호 ('A_31', 'T_31', 'O_31' 존재) \n",
        "\n",
        "X_1 ~ X_2875 : 공정 과정에서 추출되어 비식별화된 변수\n",
        "\"\"\"\n",
        "\n",
        "\n",
        "dir_path = \"/content/gdrive/MyDrive/Colab Notebooks/open\"\n",
        "\n",
        "train = pd.read_csv(f\"{dir_path}/train.csv\")"
      ]
    },
    {
      "cell_type": "code",
      "source": [
        "# X_1 ~ X_2875 열의 std가 0 또는 nan인 경우를 제거\n",
        "# test.csv 에서도 동일하게 적용해야함.\n",
        "\n",
        "invalid = []\n",
        "\n",
        "tmp = train.describe()\n",
        "\n",
        "for col in tmp.columns:\n",
        "    std = tmp.loc['std', col]\n",
        "    if std == 0 or np.isnan(std):\n",
        "        invalid.append(col)\n",
        "        \n",
        "train = train.drop(columns=invalid)\n",
        "train.info()"
      ],
      "metadata": {
        "colab": {
          "base_uri": "https://localhost:8080/"
        },
        "id": "LZ6n0FYwZ8nf",
        "outputId": "0f1d4a4e-fe03-4039-c685-480dc9cfa82e"
      },
      "execution_count": 3,
      "outputs": [
        {
          "output_type": "stream",
          "name": "stdout",
          "text": [
            "<class 'pandas.core.frame.DataFrame'>\n",
            "RangeIndex: 598 entries, 0 to 597\n",
            "Columns: 2433 entries, PRODUCT_ID to X_2870\n",
            "dtypes: float64(2428), int64(1), object(4)\n",
            "memory usage: 11.1+ MB\n"
          ]
        }
      ]
    },
    {
      "cell_type": "code",
      "source": [
        "# Y_Quality 값을 통해서, Y_Class를 예측하므로 어느 정도에서 끊기는지 확인\n",
        "# 정량 데이터이므로, 구간이 겹치지 않는 것을 확인할 수 있음.\n",
        "\n",
        "over = train[train['Y_Class'] == 2]['Y_Quality']\n",
        "normal = train[train['Y_Class'] == 1]['Y_Quality']\n",
        "under = train[train['Y_Class'] == 0]['Y_Quality']\n",
        "\n",
        "print(f\"적정 기준 초과 여부 커트라인 : [{normal.max()}, {over.min()}]\")\n",
        "print(f\"적정 기준 미달 여부 커트라인 : [{under.max()}, {normal.min()}]\")"
      ],
      "metadata": {
        "colab": {
          "base_uri": "https://localhost:8080/"
        },
        "id": "hcV5ISBYelpE",
        "outputId": "7ad3d074-6a6c-450c-c493-81a9592742ed"
      },
      "execution_count": 15,
      "outputs": [
        {
          "output_type": "stream",
          "name": "stdout",
          "text": [
            "적정 기준 초과 여부 커트라인 : [0.534842857, 0.534950794]\n",
            "적정 기준 미달 여부 커트라인 : [0.525066667, 0.525085714]\n"
          ]
        }
      ]
    }
  ]
}