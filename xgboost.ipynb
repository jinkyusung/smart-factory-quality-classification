{
  "nbformat": 4,
  "nbformat_minor": 0,
  "metadata": {
    "colab": {
      "provenance": [],
      "authorship_tag": "ABX9TyOZTiv9Eh1YLOhMJtM1NOhZ",
      "include_colab_link": true
    },
    "kernelspec": {
      "name": "python3",
      "display_name": "Python 3"
    },
    "language_info": {
      "name": "python"
    }
  },
  "cells": [
    {
      "cell_type": "markdown",
      "metadata": {
        "id": "view-in-github",
        "colab_type": "text"
      },
      "source": [
        "<a href=\"https://colab.research.google.com/github/sungjk1999/smart-factory-quality-classification/blob/main/xgboost.ipynb\" target=\"_parent\"><img src=\"https://colab.research.google.com/assets/colab-badge.svg\" alt=\"Open In Colab\"/></a>"
      ]
    },
    {
      "cell_type": "code",
      "execution_count": null,
      "metadata": {
        "id": "toCjCGQQZ8er"
      },
      "outputs": [],
      "source": [
        "import pandas as pd\n",
        "import random\n",
        "import os\n",
        "import numpy as np\n",
        "\n",
        "from sklearn.preprocessing import LabelEncoder\n",
        "from xgboost import XGBClassifier\n",
        "from xgboost import XGBRegressor"
      ]
    },
    {
      "cell_type": "code",
      "source": [
        "from google.colab import drive\n",
        "drive.mount('/content/drive')\n",
        "\n",
        "\"\"\"\n",
        "PRODUCT_ID : 제품의 고유 ID\n",
        "\n",
        "Y_Class : 제품 품질 상태(Target) \n",
        "    0 : 적정 기준 미달 (부적합) \n",
        "    1 : 적합 \n",
        "    2 : 적정 기준 초과 (부적합)\n",
        "\n",
        "Y_Quality : 제품 품질 관련 정량적 수치 \n",
        "\n",
        "TIMESTAMP : 제품이 공정에 들어간 시각 \n",
        "\n",
        "LINE : 제품이 들어간 공정 LINE 종류 ('T050304', 'T050307', 'T100304', 'T100306', 'T010306', 'T010305' 존재) \n",
        "\n",
        "PRODUCT_CODE : 제품의 CODE 번호 ('A_31', 'T_31', 'O_31' 존재) \n",
        "\n",
        "X_1 ~ X_2875 : 공정 과정에서 추출되어 비식별화된 변수\n",
        "\"\"\"\n",
        "\n",
        "dir_path = \"/content/drive/MyDrive/Colab Notebooks/open\"\n",
        "\n",
        "train_df = pd.read_csv(f\"{dir_path}/train.csv\")\n",
        "test_df = pd.read_csv(f\"{dir_path}/test.csv\")"
      ],
      "metadata": {
        "id": "jGBC6PsfacNN",
        "colab": {
          "base_uri": "https://localhost:8080/"
        },
        "outputId": "0c4d8a0c-6080-4cdc-c81d-24fcb759bab7"
      },
      "execution_count": null,
      "outputs": [
        {
          "output_type": "stream",
          "name": "stdout",
          "text": [
            "Drive already mounted at /content/drive; to attempt to forcibly remount, call drive.mount(\"/content/drive\", force_remount=True).\n"
          ]
        }
      ]
    },
    {
      "cell_type": "code",
      "source": [
        "train = train_df.drop(columns=['PRODUCT_ID', 'TIMESTAMP', 'Y_Class', 'Y_Quality'])\n",
        "train_y = train_df['Y_Class']\n",
        "train_y_quality = train_df['Y_Quality']\n",
        "test = test_df.drop(columns=['PRODUCT_ID', 'TIMESTAMP'])"
      ],
      "metadata": {
        "id": "hWjIxj1VaDm_"
      },
      "execution_count": null,
      "outputs": []
    },
    {
      "cell_type": "code",
      "source": [
        "over = train_df[train_df['Y_Class'] == 2]['Y_Quality']\n",
        "normal = train_df[train_df['Y_Class'] == 1]['Y_Quality']\n",
        "under = train_df[train_df['Y_Class'] == 0]['Y_Quality']\n"
      ],
      "metadata": {
        "id": "vWIzEW0jaFYZ"
      },
      "execution_count": null,
      "outputs": []
    },
    {
      "cell_type": "code",
      "source": [
        "from sklearn.preprocessing import OneHotEncoder\n",
        "\n",
        "#LINE one-hot-encoding\n",
        "ohe_line = OneHotEncoder(sparse=False)\n",
        "# fit_transform은 train에만 사용하고 test에는 학습된 인코더에 fit만 해야한다\n",
        "train_line = ohe_line.fit_transform(train[['LINE']])\n",
        "train_line =pd.DataFrame(train_line, columns=['line_' + col for col in ohe_line.categories_[0]])\n",
        "train = pd.concat((train.drop(columns=['LINE']), train_line), axis=1)\n",
        "\n",
        "test_line = ohe_line.transform(test[['LINE']])\n",
        "test_line = pd.DataFrame(test_line, columns=['line_' + col for col in ohe_line.categories_[0]])\n",
        "test = pd.concat((test.drop(columns=['LINE']), test_line), axis=1)"
      ],
      "metadata": {
        "id": "ORly-5NzaHS2"
      },
      "execution_count": null,
      "outputs": []
    },
    {
      "cell_type": "code",
      "source": [
        "ohe_pc = OneHotEncoder(sparse=False)\n",
        "# fit_transform은 train에만 사용하고 test에는 학습된 인코더에 fit만 해야한다\n",
        "train_pc = ohe_pc.fit_transform(train[['PRODUCT_CODE']])\n",
        "train_pc =pd.DataFrame(train_pc, columns=['pc_' + col for col in ohe_pc.categories_[0]])\n",
        "train = pd.concat((train.drop(columns=['PRODUCT_CODE']), train_pc), axis=1)\n",
        "\n",
        "test_pc = ohe_pc.transform(test[['PRODUCT_CODE']])\n",
        "test_pc = pd.DataFrame(test_pc, columns=['pc_' + col for col in ohe_pc.categories_[0]])\n",
        "test = pd.concat((test.drop(columns=['PRODUCT_CODE']), test_pc), axis=1)"
      ],
      "metadata": {
        "id": "89N027XvaJa0"
      },
      "execution_count": null,
      "outputs": []
    },
    {
      "cell_type": "code",
      "source": [
        "invalid=[]\n",
        "for col in train.columns:\n",
        "  if(train[col].isnull().all()):\n",
        "    invalid+=[col]\n",
        "\n",
        "train = train.drop(columns=invalid)\n",
        "test = test.drop(columns=invalid)"
      ],
      "metadata": {
        "id": "uRDTwVN1aMH4"
      },
      "execution_count": null,
      "outputs": []
    },
    {
      "cell_type": "code",
      "source": [
        "# from sklearn.preprocessing import RobustScaler\n",
        "\n",
        "# scaler = RobustScaler()\n",
        "# scaler.fit(train)\n",
        "# train = scaler.transform(train)\n",
        "# test = scaler.transform(test)"
      ],
      "metadata": {
        "id": "v8gWyFPYh-6C"
      },
      "execution_count": null,
      "outputs": []
    },
    {
      "cell_type": "code",
      "source": [
        "# from sklearn.decomposition import PCA\n",
        "\n",
        "# pca = PCA(n_components=310)\n",
        "# train = pca.fit_transform(train)\n",
        "# test = pca.fit_transform(test)\n",
        "\n",
        "# print(train.shape)\n",
        "# print(test.shape)"
      ],
      "metadata": {
        "id": "3naFjnxmfcZf"
      },
      "execution_count": null,
      "outputs": []
    },
    {
      "cell_type": "code",
      "source": [
        "RF = XGBRegressor(\n",
        "    objective='reg:squarederror', \n",
        "    learning_rate=0.2, \n",
        "    max_depth = 5, \n",
        "    n_estimators = 5000\n",
        ")\n",
        "RF.fit(train, train_y_quality)\n",
        "\n",
        "print('Done.')"
      ],
      "metadata": {
        "id": "jVBQZAtQaOtH",
        "colab": {
          "base_uri": "https://localhost:8080/"
        },
        "outputId": "9e2f094b-a8e2-43ba-c6b0-d8e4a78e1a51"
      },
      "execution_count": null,
      "outputs": [
        {
          "output_type": "stream",
          "name": "stdout",
          "text": [
            "Done.\n"
          ]
        }
      ]
    },
    {
      "cell_type": "code",
      "source": [
        "from sklearn.neighbors import KNeighborsClassifier\n",
        "kn = KNeighborsClassifier(n_neighbors=5)\n",
        "train_y_quality = train_y_quality.values.reshape(-1,1)\n",
        "kn.fit(train_y_quality, train_y)"
      ],
      "metadata": {
        "id": "AHv_giTSaQQ-",
        "colab": {
          "base_uri": "https://localhost:8080/"
        },
        "outputId": "53f35cb9-9d18-4d8f-d039-75dad85a89f9"
      },
      "execution_count": null,
      "outputs": [
        {
          "output_type": "execute_result",
          "data": {
            "text/plain": [
              "KNeighborsClassifier()"
            ]
          },
          "metadata": {},
          "execution_count": 301
        }
      ]
    },
    {
      "cell_type": "code",
      "source": [
        "real_preds =[]\n",
        "preds = RF.predict(test)\n",
        "\n",
        "print(preds)\n",
        "\n",
        "for i in range(len(preds)):\n",
        "  if normal.min() < preds[i] < normal.max():\n",
        "        preds[i]=1\n",
        "  elif preds[i] <= under.max():\n",
        "        preds[i]=0\n",
        "  elif over.min() <= preds[i]:\n",
        "       preds[i]=2\n",
        "  else:\n",
        "      temp=kn.predict([[preds[i]]])[0]\n",
        "      preds[i]=temp\n",
        "     \n",
        "print('Done.')"
      ],
      "metadata": {
        "id": "oEf8jSHkaTZw",
        "colab": {
          "base_uri": "https://localhost:8080/"
        },
        "outputId": "21154886-e0e5-4455-d48a-85ebb493b793"
      },
      "execution_count": null,
      "outputs": [
        {
          "output_type": "stream",
          "name": "stdout",
          "text": [
            "[0.5316567  0.5360644  0.5365064  0.5231423  0.53023833 0.53040725\n",
            " 0.5292166  0.5247611  0.52345717 0.5336585  0.52974033 0.53169334\n",
            " 0.53704333 0.5279994  0.5202172  0.5224068  0.53263956 0.526737\n",
            " 0.531074   0.5329223  0.52632046 0.534649   0.52503043 0.52759194\n",
            " 0.52791864 0.5267364  0.5317897  0.52463424 0.52452844 0.5336094\n",
            " 0.5238265  0.53274155 0.5253724  0.5294612  0.5322701  0.5202683\n",
            " 0.5283803  0.51886654 0.5466265  0.5243672  0.5291796  0.52713823\n",
            " 0.52397126 0.5299869  0.5293461  0.5337224  0.5335963  0.51459265\n",
            " 0.5305283  0.5187588  0.53375435 0.5191189  0.52509123 0.52370167\n",
            " 0.5237742  0.5175658  0.52994734 0.53005224 0.5170887  0.51873857\n",
            " 0.5190728  0.52515656 0.528699   0.5319354  0.5235532  0.5214931\n",
            " 0.52305645 0.5312863  0.5263067  0.52462196 0.52732366 0.5133465\n",
            " 0.53050315 0.53131837 0.53358597 0.53221893 0.5334187  0.52486205\n",
            " 0.54425114 0.52903533 0.5326418  0.53475416 0.53989065 0.53855187\n",
            " 0.53777593 0.5343482  0.51648116 0.5268127  0.5158784  0.5245308\n",
            " 0.53721124 0.5324545  0.5378367  0.5388738  0.529501   0.5380137\n",
            " 0.5340505  0.5363563  0.5301905  0.5389342  0.5294112  0.5390637\n",
            " 0.5305684  0.5372329  0.5332761  0.5320283  0.53655803 0.52981484\n",
            " 0.53803945 0.52760506 0.53339773 0.5291001  0.5295463  0.54027224\n",
            " 0.5312231  0.53082216 0.52688915 0.5255047  0.5288249  0.5388447\n",
            " 0.53130347 0.5349486  0.5376849  0.5372088  0.52811533 0.5290009\n",
            " 0.53734916 0.5338349  0.52588063 0.5274082  0.5304119  0.52934617\n",
            " 0.5282065  0.53023773 0.5365742  0.5389179  0.5327334  0.53713614\n",
            " 0.53821534 0.53059965 0.53373075 0.52521104 0.5238563  0.5340232\n",
            " 0.5341906  0.53834766 0.53350806 0.53838706 0.5288176  0.52895576\n",
            " 0.53013885 0.53551495 0.5319927  0.53407794 0.53087914 0.5297499\n",
            " 0.5280021  0.52973884 0.53598154 0.5299557  0.5457253  0.5460038\n",
            " 0.531831   0.53972656 0.5298292  0.53334033 0.53223145 0.5320962\n",
            " 0.5313694  0.5373171  0.52953476 0.53099924 0.5397886  0.5296786\n",
            " 0.53017646 0.5299688  0.5395216  0.53814834 0.5283575  0.537764\n",
            " 0.53707004 0.5324017  0.5339944  0.5383192  0.5311683  0.52857375\n",
            " 0.52868956 0.53693557 0.53025556 0.53738594 0.53070116 0.53601027\n",
            " 0.52899295 0.5301034  0.5318815  0.5302967  0.5273396  0.5322699\n",
            " 0.53114307 0.5302274  0.5294964  0.53232723 0.52990746 0.52735263\n",
            " 0.53686225 0.53134775 0.53411674 0.52630574 0.5306622  0.5280569\n",
            " 0.53019    0.52770126 0.52519757 0.5334806  0.52818984 0.5281689\n",
            " 0.5298493  0.530252   0.5297769  0.5307261  0.5285951  0.5296671\n",
            " 0.5285044  0.5295319  0.526705   0.5273852  0.5289168  0.5292549\n",
            " 0.5285315  0.52972907 0.52854127 0.52897537 0.5335119  0.5286976\n",
            " 0.52559    0.52931523 0.5284455  0.529391   0.5292433  0.5281954\n",
            " 0.52979445 0.5301163  0.5302965  0.5300788  0.5267185  0.52631575\n",
            " 0.5271097  0.5289803  0.52917117 0.5326028  0.5283558  0.52706766\n",
            " 0.53094053 0.5274548  0.53052574 0.53044546 0.52744853 0.528523\n",
            " 0.52736616 0.52971166 0.54362154 0.529192   0.5292975  0.53274566\n",
            " 0.5312641  0.52798575 0.52943796 0.5284287  0.5282823  0.53015214\n",
            " 0.5285429  0.52835345 0.52857393 0.52864003 0.5272779  0.5289903\n",
            " 0.5282309  0.52648497 0.52819574 0.5281724  0.5338118  0.53694916\n",
            " 0.53090906 0.535445   0.5297317  0.53196466 0.52978903 0.52368003\n",
            " 0.5271801  0.52928764 0.52870136 0.52914304 0.5295658  0.52934873\n",
            " 0.5255331  0.5268196  0.52686566 0.524237   0.5238718  0.52383953\n",
            " 0.5253768  0.52629375 0.52563995 0.52520555 0.5230926  0.52859706\n",
            " 0.5261154  0.5273526  0.52777123 0.5282425 ]\n",
            "Done.\n"
          ]
        }
      ]
    },
    {
      "cell_type": "code",
      "source": [
        "submit = pd.read_csv(f'{dir_path}/sample_submission.csv')\n",
        "submit['Y_Class'] = preds\n",
        "submit.to_csv(f'{dir_path}/xgb_submission.csv', index=False)"
      ],
      "metadata": {
        "id": "7RobZ_pcaggJ"
      },
      "execution_count": null,
      "outputs": []
    }
  ]
}